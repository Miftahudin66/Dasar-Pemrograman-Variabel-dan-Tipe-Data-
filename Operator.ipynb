{
 "cells": [
  {
   "cell_type": "code",
   "execution_count": 33,
   "id": "677a8866-d501-4a04-bf88-14c67b34b57a",
   "metadata": {},
   "outputs": [
    {
     "name": "stdin",
     "output_type": "stream",
     "text": [
      "Insert_your first name : miftah\n",
      "Insert_your middle name : hudin\n",
      "Insert_your last name : -\n"
     ]
    },
    {
     "name": "stdout",
     "output_type": "stream",
     "text": [
      "Hello miftah hudin - !!\n"
     ]
    }
   ],
   "source": [
    "#INPUT\n",
    "\n",
    "first_name = input('Insert_your first name :')\n",
    "middle_name = input('Insert_your middle name :')\n",
    "last_name = input('Insert_your last name :')\n",
    "\n",
    "print(\"Hello\",first_name, middle_name, last_name,\"!!\")"
   ]
  },
  {
   "cell_type": "code",
   "execution_count": 34,
   "id": "4041ea15-b518-4345-b3d7-02788f29e5ee",
   "metadata": {},
   "outputs": [
    {
     "name": "stdin",
     "output_type": "stream",
     "text": [
      "masukan panjang : 8\n",
      "masukan lebar : 4\n"
     ]
    },
    {
     "name": "stdout",
     "output_type": "stream",
     "text": [
      "Luas persegi panjang: 32\n",
      "Keliling persegi panjang: 24\n"
     ]
    }
   ],
   "source": [
    "#luas => p * L\n",
    "#keliling => 2 * (p+L)\n",
    "\n",
    "panjang = input('masukan panjang :')\n",
    "lebar = input('masukan lebar :')\n",
    "\n",
    "luas = int(panjang) * int(lebar)\n",
    "keliling = 2 * (int(panjang) + int(lebar))\n",
    "\n",
    "print(\"Luas persegi panjang:\", luas)\n",
    "print(\"Keliling persegi panjang:\", keliling)"
   ]
  },
  {
   "cell_type": "code",
   "execution_count": 36,
   "id": "91829d96-7ba1-4154-a5da-a592dbdae4e9",
   "metadata": {},
   "outputs": [
    {
     "name": "stdout",
     "output_type": "stream",
     "text": [
      "18-Oktober-2024\n",
      "\n",
      "18\n",
      "Oktober\n",
      "2024\n"
     ]
    }
   ],
   "source": [
    "#OUPUT\n",
    "\n",
    "print(\"18\",\"Oktober\",\"2024\",sep='-')\n",
    "#18-Oktober-2024\n",
    "\n",
    "print(\"\")\n",
    "\n",
    "print(\"18\",\"Oktober\",\"2024\",sep='\\n')\n"
   ]
  },
  {
   "cell_type": "code",
   "execution_count": 40,
   "id": "ffe4662e-6b95-42c6-9386-50624239a068",
   "metadata": {},
   "outputs": [
    {
     "name": "stdout",
     "output_type": "stream",
     "text": [
      "1*2*3*4.\n",
      "1*****2*****3*****4."
     ]
    }
   ],
   "source": [
    "print(\"1\",\"2\",\"3\",\"4\", sep=\"*\", end=\".\")\n",
    "\n",
    "print(\"\")\n",
    "\n",
    "print(\"1\",\"2\",\"3\",\"4\", sep=\"*\" * 5, end=\".\")"
   ]
  },
  {
   "cell_type": "code",
   "execution_count": 41,
   "id": "1d6e2b8b-3776-42a5-b5d6-08fa8151f5aa",
   "metadata": {},
   "outputs": [
    {
     "name": "stdout",
     "output_type": "stream",
     "text": [
      "Luas Persegi dengan lebar 10 dan Panjang 20 = 200\n"
     ]
    }
   ],
   "source": [
    "#cara memformat string\n",
    "\n",
    "l = 10\n",
    "p = 20\n",
    "#Luas persegi dengan lebar 10 dan panjang 20 = 200\n",
    "print(\"Luas Persegi dengan lebar {} dan Panjang {} = {}\".format(l,p,l*p))"
   ]
  },
  {
   "cell_type": "code",
   "execution_count": 46,
   "id": "9ed5978b-d273-4c9c-9f22-044b132bde71",
   "metadata": {},
   "outputs": [
    {
     "name": "stdout",
     "output_type": "stream",
     "text": [
      "Nama-nama bulan Januari,Februari,Maret,April,\n"
     ]
    }
   ],
   "source": [
    "#memformat dengan index\n",
    "\n",
    "bulan1 = \"Januari\"\n",
    "bulan2 = \"Februari\"\n",
    "bulan3 = \"Maret\"\n",
    "bulan4 = \"April\"\n",
    "\n",
    "print(\"Nama-nama bulan {0},{1},{2},{3},\".format(bulan1,bulan2,bulan3,bulan4))"
   ]
  },
  {
   "cell_type": "code",
   "execution_count": 48,
   "id": "f219bdab-4f03-4d32-8aee-8f9c1c52a803",
   "metadata": {},
   "outputs": [
    {
     "name": "stdout",
     "output_type": "stream",
     "text": [
      "Nama Saya Miftah Hudin\n"
     ]
    }
   ],
   "source": [
    "#Pengenalan String\n",
    "\n",
    "print(\"Nama Saya {fname} {lname}\".format(fname='Miftah',lname='Hudin'))"
   ]
  },
  {
   "cell_type": "code",
   "execution_count": 51,
   "id": "1f709995-c5e0-4345-82fe-badd93b80ac2",
   "metadata": {},
   "outputs": [
    {
     "name": "stdout",
     "output_type": "stream",
     "text": [
      "U\n",
      "a\n",
      "Universitas\n",
      "Nusa Putra\n",
      "Putra\n",
      "artuP asuN satisrevinU\n"
     ]
    }
   ],
   "source": [
    "#STRING\n",
    "\n",
    "kampus = \"Universitas Nusa Putra\"\n",
    "print(kampus[0])  #U\n",
    "print(kampus[-1])  #a\n",
    "\n",
    "#menggunakan range\n",
    "print(kampus[0:11])\n",
    "print(kampus[12:])\n",
    "print(kampus[-5:])\n",
    "print(kampus[::-1])"
   ]
  },
  {
   "cell_type": "code",
   "execution_count": 55,
   "id": "f61f7fbf-cb18-4761-9073-4ce031984585",
   "metadata": {},
   "outputs": [
    {
     "name": "stdout",
     "output_type": "stream",
     "text": [
      "Luas Persegi = 10\n",
      "Keliling Persegi = 22\n"
     ]
    }
   ],
   "source": [
    "#Interpolasi menggunakan F-string\n",
    "\n",
    "p = 10\n",
    "l = 20\n",
    "\n",
    "print(f'Luas Persegi = {1*p}')\n",
    "print(f'Keliling Persegi = {2 * (p+1)}')"
   ]
  },
  {
   "cell_type": "code",
   "execution_count": 59,
   "id": "56af157f-b143-4f95-a249-1e9e25659bc0",
   "metadata": {},
   "outputs": [
    {
     "name": "stdout",
     "output_type": "stream",
     "text": [
      "['ANDRI', 'BUDI', 'DONI']\n",
      "ANDRI@BUDI@DONI\n"
     ]
    }
   ],
   "source": [
    "#Split pada String\n",
    "\n",
    "nama_siswa = \"Andri,Budi,Doni\"\n",
    "nama_siswa = nama_siswa.upper()\n",
    "print(nama_siswa.split(','))\n",
    "print('@'.join(nama_siswa.split(',')))"
   ]
  },
  {
   "cell_type": "code",
   "execution_count": null,
   "id": "ee42cd13-0c02-476e-b81c-c33ee61d37d2",
   "metadata": {},
   "outputs": [],
   "source": [
    "#PROGRAM\n",
    "\n",
    "name = input('masukan nama anda:')\n",
    "birth = input('masukan tanggal lahir:')\n",
    "\n",
    "birthS = birth.split('/')\n",
    "nameS = name.split()\n",
    "\n",
    "inisial_a = nameS[0]\n",
    "inisial_b = nameS[1]\n",
    "\n",
    "print(f\"Nama Anda: {name}\")\n",
    "print(f\"Tanggal Lahir: {birthS [0]}\")\n",
    "print(f\"Bulan lahir: {birthS [1]}\")\n",
    "print(f\"Tahun lahir: {birthS [2]}\")\n",
    "print(f\"Inisial: {nameS[0][0]}{nameS[1][0]}\")"
   ]
  },
  {
   "cell_type": "code",
   "execution_count": null,
   "id": "2b6877a8-0797-4ca9-b2dd-f7fe1a715ea6",
   "metadata": {},
   "outputs": [],
   "source": []
  }
 ],
 "metadata": {
  "kernelspec": {
   "display_name": "Python 3 (ipykernel)",
   "language": "python",
   "name": "python3"
  },
  "language_info": {
   "codemirror_mode": {
    "name": "ipython",
    "version": 3
   },
   "file_extension": ".py",
   "mimetype": "text/x-python",
   "name": "python",
   "nbconvert_exporter": "python",
   "pygments_lexer": "ipython3",
   "version": "3.11.7"
  }
 },
 "nbformat": 4,
 "nbformat_minor": 5
}
