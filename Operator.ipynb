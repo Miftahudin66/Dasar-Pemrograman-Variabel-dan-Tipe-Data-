{
 "cells": [
  {
   "cell_type": "code",
   "execution_count": 5,
   "id": "efc7e981-8bd3-4afd-988b-cf541b646b80",
   "metadata": {},
   "outputs": [
    {
     "name": "stdout",
     "output_type": "stream",
     "text": [
      "OPERASI ARITMATIKA\n",
      "\n",
      "27\n",
      "13\n",
      "140\n",
      "2.857142857142857\n",
      "2\n",
      "1280000000\n",
      "6\n"
     ]
    }
   ],
   "source": [
    "#OPERASI ARITMATIKA\n",
    "print(\"OPERASI ARITMATIKA\")\n",
    "print(\"\")\n",
    "\n",
    "num1 = 20\n",
    "num2 = 7\n",
    "\n",
    "hasil_jumlah = num1 + num2\n",
    "hasil_kurang = num1 - num2\n",
    "hasil_kali = num1 * num2\n",
    "hasil_bagi = num1 / num2\n",
    "hasil_bagi_bulat = num1 // num2\n",
    "hasil_pangkat = num1 ** num2\n",
    "hasil_modulus = num1 % num2\n",
    "\n",
    "print(hasil_jumlah)\n",
    "print(hasil_kurang)\n",
    "print(hasil_kali)\n",
    "print(hasil_bagi)\n",
    "print(hasil_bagi_bulat)\n",
    "print(hasil_pangkat)\n",
    "print(hasil_modulus)"
   ]
  },
  {
   "cell_type": "code",
   "execution_count": 16,
   "id": "10938a6a-1932-4f55-aa55-5d00156214cb",
   "metadata": {},
   "outputs": [
    {
     "name": "stdout",
     "output_type": "stream",
     "text": [
      "OPERATOR PENUGASAN\n",
      "\n",
      "10\n",
      "15\n",
      "13\n",
      "26\n",
      "13.0\n",
      "4.0\n"
     ]
    }
   ],
   "source": [
    "#OPERATOR PENUGASAN\n",
    "print(\"OPERATOR PENUGASAN\")\n",
    "print(\"\")\n",
    "\n",
    "x = 10\n",
    "print(x) #10\n",
    "x += 5   #x = x+ 5\n",
    "print(x) #15\n",
    "x -= 2   #x = x - 2\n",
    "print(x) #13\n",
    "x *= 2   #x = x * 2\n",
    "print(x)\n",
    "x /= 2   #x = x / 2\n",
    "print(x) #13.0\n",
    "x //= 3  #x = // 2\n",
    "print(x) #4.0\n",
    "\n",
    "\n"
   ]
  },
  {
   "cell_type": "code",
   "execution_count": 17,
   "id": "85f8b9aa-9f3f-4d6e-bffe-6c0d717f4c4b",
   "metadata": {},
   "outputs": [
    {
     "name": "stdout",
     "output_type": "stream",
     "text": [
      "False\n",
      "True\n",
      "False\n",
      "True\n",
      "True\n",
      "True\n"
     ]
    }
   ],
   "source": [
    "#OPERATOR PERBANDINGAN\n",
    "\n",
    "y = 5\n",
    "z = 6\n",
    "\n",
    "print(y==z)\n",
    "print(y!=z)\n",
    "print(y>z)\n",
    "print(y<z)\n",
    "print(y>=5)\n",
    "print(z<=6)"
   ]
  },
  {
   "cell_type": "code",
   "execution_count": 20,
   "id": "2f235aa6-5329-4f4a-b198-15f0801fc089",
   "metadata": {},
   "outputs": [
    {
     "name": "stdout",
     "output_type": "stream",
     "text": [
      "True\n",
      "True\n",
      "False\n"
     ]
    }
   ],
   "source": [
    "#OPERATOR LOGIKA\n",
    "\n",
    "val1 = 10\n",
    "val2 = 5\n",
    "\n",
    "opr_and = val1 > val2 and val1 < 11  #True\n",
    "opr_or = val1 == 9 or val2 >=5   #True\n",
    "opr_not = not(opr_and and opr_or)  #False\n",
    "\n",
    "print(opr_and)\n",
    "print(opr_or)\n",
    "print(opr_not)"
   ]
  },
  {
   "cell_type": "code",
   "execution_count": 24,
   "id": "850427ed-3425-4807-8ad1-6c666720ccd2",
   "metadata": {},
   "outputs": [
    {
     "name": "stdout",
     "output_type": "stream",
     "text": [
      "True\n",
      "False\n",
      "True\n"
     ]
    }
   ],
   "source": [
    "#OPERATOR IDENTITAS\n",
    "\n",
    "fruits = [\"Apel\",\"Semangka\",\"Durian\"]\n",
    "fav_fruits = fruits\n",
    "your_fruits = [\"Apel\",\"Semangka\",\"Durian\"]\n",
    "\n",
    "print(fav_fruits is fruits)\n",
    "print(fav_fruits is your_fruits)\n",
    "\n",
    "name = \"Jhon\"\n",
    "your_name = \"Jhon\"\n",
    "\n",
    "print(name is your_name)"
   ]
  },
  {
   "cell_type": "code",
   "execution_count": 25,
   "id": "2da25c09-44f2-42ac-a997-e47b92bdd256",
   "metadata": {},
   "outputs": [
    {
     "name": "stdout",
     "output_type": "stream",
     "text": [
      "True\n",
      "False\n",
      "True\n",
      "False\n"
     ]
    }
   ],
   "source": [
    "#OPERATOR KEANGGOTAAN\n",
    "\n",
    "city = [\"Jakarta\",\"Malang\",\"Sukabumi\"]\n",
    "\n",
    "print(\"Jakarta\" in city)\n",
    "print(\"Bandung\" in city)\n",
    "print(\"Malang\" in city)\n",
    "print(\"Sukabumi\" in city and \"Malang\" not in city)"
   ]
  },
  {
   "cell_type": "code",
   "execution_count": 28,
   "id": "d4a4d7b9-3cde-4f92-9177-bd29750f1e5f",
   "metadata": {},
   "outputs": [
    {
     "name": "stdout",
     "output_type": "stream",
     "text": [
      "15\n",
      "255\n",
      "240\n",
      "256\n",
      "32\n"
     ]
    }
   ],
   "source": [
    "#OPERATOR BITWISE\n",
    "\n",
    "nilai1 = 255\n",
    "nilai2 = 15\n",
    "bit_and = nilai1 & nilai2\n",
    "bit_or = nilai1 | nilai2\n",
    "bit_xor = nilai1 ^ nilai2\n",
    "#11111111 =>255\n",
    "#00001111 =>15\n",
    "#----------or\n",
    "#00001111 =>15\n",
    "#11111111 =>255\n",
    "#11110000 =>240\n",
    "\n",
    "print(bit_and)\n",
    "print(bit_or)\n",
    "print(bit_xor)\n",
    "\n",
    "#shift left\n",
    "print(128 << 1)\n",
    "#shift right\n",
    "print(128 >> 2)"
   ]
  },
  {
   "cell_type": "code",
   "execution_count": null,
   "id": "8279e5c3-d5d0-41df-be57-b04a46b7394a",
   "metadata": {},
   "outputs": [],
   "source": []
  }
 ],
 "metadata": {
  "kernelspec": {
   "display_name": "Python 3 (ipykernel)",
   "language": "python",
   "name": "python3"
  },
  "language_info": {
   "codemirror_mode": {
    "name": "ipython",
    "version": 3
   },
   "file_extension": ".py",
   "mimetype": "text/x-python",
   "name": "python",
   "nbconvert_exporter": "python",
   "pygments_lexer": "ipython3",
   "version": "3.11.7"
  }
 },
 "nbformat": 4,
 "nbformat_minor": 5
}
