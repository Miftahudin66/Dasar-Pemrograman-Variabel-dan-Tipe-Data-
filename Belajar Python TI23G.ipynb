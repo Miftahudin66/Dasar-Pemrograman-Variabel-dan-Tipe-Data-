{
 "cells": [
  {
   "cell_type": "code",
   "execution_count": 1,
   "id": "00a85d4f",
   "metadata": {},
   "outputs": [
    {
     "name": "stdout",
     "output_type": "stream",
     "text": [
      "100\n",
      "50.6\n",
      "1\n",
      "True\n"
     ]
    }
   ],
   "source": [
    "data_integer =100\n",
    "data_float = 50.6\n",
    "data_string = \"1\"\n",
    "data_boolean = True\n",
    "\n",
    "data_string\n",
    "print(data_integer)\n",
    "print(data_float)\n",
    "print(data_string)\n",
    "print(data_boolean)"
   ]
  },
  {
   "cell_type": "code",
   "execution_count": null,
   "id": "b3ff26a1",
   "metadata": {},
   "outputs": [],
   "source": []
  }
 ],
 "metadata": {
  "kernelspec": {
   "display_name": "Python 3 (ipykernel)",
   "language": "python",
   "name": "python3"
  },
  "language_info": {
   "codemirror_mode": {
    "name": "ipython",
    "version": 3
   },
   "file_extension": ".py",
   "mimetype": "text/x-python",
   "name": "python",
   "nbconvert_exporter": "python",
   "pygments_lexer": "ipython3",
   "version": "3.9.12"
  }
 },
 "nbformat": 4,
 "nbformat_minor": 5
}
