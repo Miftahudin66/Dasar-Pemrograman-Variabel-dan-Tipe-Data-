{
 "cells": [
  {
   "cell_type": "code",
   "execution_count": 1,
   "id": "c05243ab-feac-444b-b023-b901cfcf01bf",
   "metadata": {},
   "outputs": [
    {
     "name": "stdout",
     "output_type": "stream",
     "text": [
      "Dingin\n"
     ]
    }
   ],
   "source": [
    "cuaca = \"Hujan\"\n",
    "if cuaca == \"Hujan\":\n",
    "    print(\"Dingin\") #tabulasi <tab>"
   ]
  },
  {
   "cell_type": "code",
   "execution_count": 2,
   "id": "12a80fe5-ffa0-42e8-ac62-d282c7137376",
   "metadata": {},
   "outputs": [
    {
     "name": "stdout",
     "output_type": "stream",
     "text": [
      "10 adalah bilangan Genap\n"
     ]
    }
   ],
   "source": [
    "#menentukan nilai ganjil genap \n",
    "\n",
    "nilai = 10\n",
    "sisa_bagi = nilai % 2\n",
    "if sisa_bagi ==0:\n",
    "    print(f\"{nilai} adalah bilangan Genap\")\n",
    "else:\n",
    "    print(f\"{nilai} adalah bilangan Ganjil\")"
   ]
  },
  {
   "cell_type": "code",
   "execution_count": 31,
   "id": "aaa1c648-c370-46c2-af12-679320b7e0f1",
   "metadata": {},
   "outputs": [
    {
     "name": "stdin",
     "output_type": "stream",
     "text": [
      "Masukan Nilai:  -1\n"
     ]
    },
    {
     "name": "stdout",
     "output_type": "stream",
     "text": [
      "Input Salah\n"
     ]
    }
   ],
   "source": [
    "#jika kondisi lebih dari 2\n",
    "#konversi nilai\n",
    "\n",
    "nilai = int(input('Masukan Nilai: '))\n",
    "if nilai >=0 and nilai <=100:\n",
    "   \n",
    "    if nilai <= 49:\n",
    "        print(f\"{nilai} = E\")\n",
    "    elif nilai <= 59:\n",
    "        print(f\"{nilai} = D\")\n",
    "    elif nilai <= 69:\n",
    "        print(f\"{nilai} = C\")\n",
    "    elif nilai <= 84:\n",
    "        print(f\"{nilai} = B\")\n",
    "    elif nilai <=100:\n",
    "        print(f\"{nilai} = A\")\n",
    "else:\n",
    "    print(\"Input Salah\")"
   ]
  },
  {
   "cell_type": "code",
   "execution_count": 40,
   "id": "1c7ee17c-bf51-44f6-b3b0-3f0bf00a73ad",
   "metadata": {},
   "outputs": [
    {
     "name": "stdin",
     "output_type": "stream",
     "text": [
      "Masukan Username:  admin\n",
      "Masukan Password:  a\n"
     ]
    },
    {
     "name": "stdout",
     "output_type": "stream",
     "text": [
      "Password anda salah\n"
     ]
    }
   ],
   "source": [
    "#program login sederhana\n",
    "\n",
    "username = input('Masukan Username: ')\n",
    "password = input('Masukan Password: ')\n",
    "\n",
    "if username == 'admin':\n",
    "    if password == 'admin':\n",
    "        print(f'\\nSelamat Datang {username}')\n",
    "    else:\n",
    "        print('Password anda salah')\n",
    "else:\n",
    "    if password == 'admin':\n",
    "        print('username anda salah')\n",
    "    else:\n",
    "        print('username dan password salah')"
   ]
  },
  {
   "cell_type": "code",
   "execution_count": 77,
   "id": "8f9b25bc-0caa-426c-8d5d-723ba0f18c02",
   "metadata": {},
   "outputs": [
    {
     "name": "stdin",
     "output_type": "stream",
     "text": [
      "Input Nama:  DD\n",
      "Input Umur:  18\n",
      "Input Tempat Tinggal:  Detroit\n",
      "Input Jumlah Uang/Tabungan:  2000\n"
     ]
    },
    {
     "name": "stdout",
     "output_type": "stream",
     "text": [
      "DD kemungkinan mafia dengan pangkat Capo\n"
     ]
    }
   ],
   "source": [
    "#mengidemtifikasi siapa mafia nya\n",
    "\n",
    "nama = str(input('Input Nama: '))\n",
    "umur = int(input('Input Umur: '))\n",
    "tinggal = input('Input Tempat Tinggal: ')\n",
    "tabungan = int(input('Input Jumlah Uang/Tabungan: '))\n",
    "\n",
    "pangkat = ''\n",
    "\n",
    "if umur > 40:\n",
    "    if tinggal == 'Nevada' or tinggal== 'New york' or tinggal=='Havana':\n",
    "        if tabungan > 10000000:\n",
    "            pangkat = 'Don'\n",
    "        \n",
    "\n",
    "elif umur >= 25 and umur <= 40:\n",
    "    if tinggal == 'New Jersey' or tinggal== 'Manhattan' or tinggal=='Nevada':\n",
    "        if tabungan >= 1000000 and tabungan <=2000000:\n",
    "            pangkat = 'Underboss'\n",
    "       \n",
    "\n",
    "elif umur >=18 and umur <=24:\n",
    "    if tinggal == 'California' or tinggal== 'Boston' or tinggal== 'Detroit':\n",
    "        if tabungan < 1000000:\n",
    "            pangkat = 'Capo'\n",
    "if pangkat != '':\n",
    "    print(f\"{nama} kemungkinan mafia dengan pangkat {pangkat}\")\n",
    "else:\n",
    "    print(f\"{nama} tidak mencurigakan\")"
   ]
  },
  {
   "cell_type": "code",
   "execution_count": null,
   "id": "0dc55326-0b44-4d2d-800c-a278b4254a4e",
   "metadata": {},
   "outputs": [],
   "source": [
    "#mengidemtifikasi siapa mafia nya\n",
    "\n",
    "nama = str(input('Input Nama: '))\n",
    "umur = int(input('Input Umur: '))\n",
    "tinggal = input('Input Tempat Tinggal: ')\n",
    "tabungan = int(input('Input Jumlah Uang/Tabungan: '))\n",
    "\n",
    "pangkat = ''\n",
    "\n",
    "if umur > 40:\n",
    "    if tinggal == 'Nevada' or tinggal== 'New york' or tinggal=='Havana':\n",
    "        if tabungan > 10000000:\n",
    "            pangkat = 'Don'\n",
    "        \n",
    "\n",
    "elif umur >= 25 and umur <= 40:\n",
    "    if tinggal == 'New Jersey' or tinggal== 'Manhattan' or tinggal=='Nevada':\n",
    "        if tabungan >= 1000000 and tabungan <=2000000:\n",
    "            pangkat = 'Underboss'\n",
    "       \n",
    "\n",
    "elif umur >=18 and umur <=24:\n",
    "    if tinggal == 'California' or tinggal== 'Boston' or tinggal== 'Detroit':\n",
    "        if tabungan < 1000000:\n",
    "            print(f\"{nama} \n",
    "\n",
    "else:\n",
    "    print(f\"{nama} tidak mencurigakan\")"
   ]
  }
 ],
 "metadata": {
  "kernelspec": {
   "display_name": "Python 3 (ipykernel)",
   "language": "python",
   "name": "python3"
  },
  "language_info": {
   "codemirror_mode": {
    "name": "ipython",
    "version": 3
   },
   "file_extension": ".py",
   "mimetype": "text/x-python",
   "name": "python",
   "nbconvert_exporter": "python",
   "pygments_lexer": "ipython3",
   "version": "3.11.7"
  }
 },
 "nbformat": 4,
 "nbformat_minor": 5
}
