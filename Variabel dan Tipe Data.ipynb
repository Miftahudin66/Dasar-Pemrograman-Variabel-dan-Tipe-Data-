{
 "cells": [
  {
   "cell_type": "markdown",
   "id": "57fe594b",
   "metadata": {},
   "source": [
    "<h1>Variabel dan Tipe  Data</h1><hr>\n",
    "Tipe Data pada Python adalah:\n",
    "<ol>\n",
    "    <li>Float - (float)</li>\n",
    "    <li>String - (str)</li>\n",
    "    <li>Boolean - (bool)</li>\n",
    "    <li>Integer - (int)</li>\n",
    "<ol><hr>\n",
    "Aturan Persamaan Variabel:\n",
    "<ul> \n",
    "    <li>Tidak Boleh Menggunakan spasi</li>\n",
    "    <li>Bersifat Case Sensitive==> A != a</li>\n",
    "    <li>Terdiri dari huruf, angka dan karakter</li>\n",
    "    <li>Diawali Underscore atau huruf</li>\n",
    "    <li>Tidak Boleh Menggunakan reversed keyword</li>\n",
    " </ul>"
   ]
  },
  {
   "cell_type": "code",
   "execution_count": 18,
   "id": "75a87a6d",
   "metadata": {},
   "outputs": [
    {
     "name": "stdout",
     "output_type": "stream",
     "text": [
      "100\n",
      "50.6\n",
      "1\n",
      "True\n"
     ]
    }
   ],
   "source": [
    "data_integer =100\n",
    "data_float = 50.6\n",
    "data_string = \"1\"\n",
    "data_boolean = True\n",
    "\n",
    "data_string\n",
    "print(data_integer)\n",
    "print(data_float)\n",
    "print(data_string)\n",
    "print(data_boolean)"
   ]
  },
  {
   "cell_type": "code",
   "execution_count": 19,
   "id": "8154813d",
   "metadata": {},
   "outputs": [
    {
     "name": "stdout",
     "output_type": "stream",
     "text": [
      "<class 'int'>\n",
      "<class 'float'>\n",
      "<class 'str'>\n",
      "<class 'bool'>\n"
     ]
    }
   ],
   "source": [
    "print(type(data_integer))\n",
    "print(type(data_float))\n",
    "print(type(data_string))\n",
    "print(type(data_boolean))"
   ]
  },
  {
   "cell_type": "markdown",
   "id": "5e92df49",
   "metadata": {},
   "source": [
    "<h3>Konversi Tipe Data dari Integer ke (String,Float,Boolean)</h3>"
   ]
  },
  {
   "cell_type": "code",
   "execution_count": 5,
   "id": "aeade78a",
   "metadata": {},
   "outputs": [
    {
     "name": "stdout",
     "output_type": "stream",
     "text": [
      "Isikan Bilangan 1:10\n",
      "Isikan Bilangan 2:10\n",
      "20\n"
     ]
    }
   ],
   "source": [
    "bill1 = input(\"Isikan Bilangan 1:\")\n",
    "bill2 = input(\"Isikan Bilangan 2:\")\n",
    "hasil = int(bill1) + int(bill2)\n",
    "print(hasil)"
   ]
  },
  {
   "cell_type": "code",
   "execution_count": 20,
   "id": "19693ecc",
   "metadata": {},
   "outputs": [
    {
     "name": "stdout",
     "output_type": "stream",
     "text": [
      "1\n",
      "50\n",
      "1\n",
      "<class 'int'>\n",
      "<class 'int'>\n",
      "<class 'int'>\n"
     ]
    }
   ],
   "source": [
    "string_to_int = int(data_string)\n",
    "float_to_int = int(data_float)\n",
    "bool_to_int = int(data_boolean)\n",
    "\n",
    "print(string_to_int)\n",
    "print(float_to_int)\n",
    "print(bool_to_int)\n",
    "\n",
    "print(type(string_to_int))\n",
    "print(type(float_to_int))\n",
    "print(type(bool_to_int))\n",
    "\n"
   ]
  },
  {
   "cell_type": "code",
   "execution_count": 23,
   "id": "ed47f4a2",
   "metadata": {},
   "outputs": [
    {
     "name": "stdout",
     "output_type": "stream",
     "text": [
      "100.0\n",
      "1.0\n",
      "1.0\n",
      "<class 'float'>\n",
      "<class 'float'>\n",
      "<class 'float'>\n"
     ]
    }
   ],
   "source": [
    "int_to_float = float(data_integer)\n",
    "string_to_float = float(data_string)\n",
    "bool_to_float = float(data_boolean)\n",
    "\n",
    "print(int_to_float)\n",
    "print(string_to_float)\n",
    "print(bool_to_float)\n",
    "\n",
    "print(type(int_to_float))\n",
    "print(type(string_to_float))\n",
    "print(type(bool_to_float))"
   ]
  },
  {
   "cell_type": "code",
   "execution_count": 24,
   "id": "edc678b2",
   "metadata": {},
   "outputs": [
    {
     "name": "stdout",
     "output_type": "stream",
     "text": [
      "100\n",
      "50.6\n",
      "True\n",
      "<class 'str'>\n",
      "<class 'str'>\n",
      "<class 'str'>\n"
     ]
    }
   ],
   "source": [
    "int_to_str = str(data_integer)\n",
    "float_to_str = str(data_float)\n",
    "bool_to_str = str(data_boolean)\n",
    "\n",
    "print(int_to_str)\n",
    "print(float_to_str)\n",
    "print(bool_to_str)\n",
    "\n",
    "print(type(int_to_str))\n",
    "print(type(float_to_str))\n",
    "print(type(bool_to_str))"
   ]
  },
  {
   "cell_type": "code",
   "execution_count": 25,
   "id": "ad964e7d",
   "metadata": {},
   "outputs": [
    {
     "name": "stdout",
     "output_type": "stream",
     "text": [
      "True\n",
      "True\n",
      "True\n",
      "<class 'bool'>\n",
      "<class 'bool'>\n",
      "<class 'bool'>\n"
     ]
    }
   ],
   "source": [
    "int_to_bool = bool(data_integer)\n",
    "string_to_bool = bool(data_string)\n",
    "float_to_bool = bool(data_float)\n",
    "\n",
    "print(int_to_bool)\n",
    "print(string_to_bool)\n",
    "print(float_to_bool)\n",
    "\n",
    "print(type(int_to_bool))\n",
    "print(type(string_to_bool))\n",
    "print(type(float_to_bool))"
   ]
  }
 ],
 "metadata": {
  "kernelspec": {
   "display_name": "Python 3 (ipykernel)",
   "language": "python",
   "name": "python3"
  },
  "language_info": {
   "codemirror_mode": {
    "name": "ipython",
    "version": 3
   },
   "file_extension": ".py",
   "mimetype": "text/x-python",
   "name": "python",
   "nbconvert_exporter": "python",
   "pygments_lexer": "ipython3",
   "version": "3.9.12"
  }
 },
 "nbformat": 4,
 "nbformat_minor": 5
}
